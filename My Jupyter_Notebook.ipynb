{
 "cells": [
  {
   "cell_type": "markdown",
   "id": "16a03720-55c5-423a-bc29-3a85f48b8e25",
   "metadata": {},
   "source": [
    " \"My Jupyter Notebook on IBM Watson Studio\""
   ]
  },
  {
   "cell_type": "markdown",
   "id": "5b606b6a-7cfa-4342-b93c-77be01dd720d",
   "metadata": {},
   "source": [
    "**Sundas Akram**\n",
    "Business Research Analyst"
   ]
  },
  {
   "cell_type": "markdown",
   "id": "be260296-01d9-4920-b3ea-238c776e6c78",
   "metadata": {},
   "source": [
    "*I am interested in data science because previously I did Master in Philosophy in  Business Administration. this course helps me to polish my research analysis skills and helps me to understand the depth of data analysis.*"
   ]
  },
  {
   "cell_type": "markdown",
   "id": "274f249f-a3f2-4941-82c6-413778a4fa81",
   "metadata": {},
   "source": [
    "\"The Pythagoras theorem states that in a right triangle, the square of the length of the hypotenuse (the side opposite the right angle) is equal to the sum of the squares of the lengths of the other two sides.\""
   ]
  },
  {
   "cell_type": "code",
   "execution_count": 3,
   "id": "63f9b7f8-7169-44f2-80c0-98182dc272c2",
   "metadata": {},
   "outputs": [],
   "source": [
    "def pythagoras(a, b):\n",
    "    c = (a**2 + b**2)**0.5\n",
    "    return c\n",
    "\n"
   ]
  },
  {
   "cell_type": "code",
   "execution_count": null,
   "id": "8565fa27-94f5-4002-8d4f-add60f2111fe",
   "metadata": {},
   "outputs": [],
   "source": []
  }
 ],
 "metadata": {
  "kernelspec": {
   "display_name": "Python",
   "language": "python",
   "name": "conda-env-python-py"
  },
  "language_info": {
   "codemirror_mode": {
    "name": "ipython",
    "version": 3
   },
   "file_extension": ".py",
   "mimetype": "text/x-python",
   "name": "python",
   "nbconvert_exporter": "python",
   "pygments_lexer": "ipython3",
   "version": "3.7.12"
  }
 },
 "nbformat": 4,
 "nbformat_minor": 5
}
